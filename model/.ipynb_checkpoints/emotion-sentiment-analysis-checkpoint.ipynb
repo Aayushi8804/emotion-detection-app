{
 "cells": [
  {
   "cell_type": "markdown",
   "id": "9c8e4107-414a-4e5c-83d3-4edd19b91919",
   "metadata": {},
   "source": [
    "# **Emotion/Sentiment Analysis**"
   ]
  },
  {
   "cell_type": "markdown",
   "id": "fc6d8fba-cc02-41ac-8ef9-26538533c4a3",
   "metadata": {},
   "source": [
    "## **AIML Project**"
   ]
  },
  {
   "cell_type": "markdown",
   "id": "8bb9fb65-8124-4101-bccf-3be77bf3132d",
   "metadata": {},
   "source": [
    "### **Group Members:**"
   ]
  },
  {
   "cell_type": "markdown",
   "id": "37eaed75-0c44-43d7-9053-b07a620d2290",
   "metadata": {},
   "source": [
    "1. Aaryan Pratap Kalra (2210990015)\n",
    "2. Aayushi Swami (2210990023)\n",
    "3. Aaditya Sharma (2210990005)\n",
    "4. Aaditya Bhalla (2210990004)"
   ]
  },
  {
   "cell_type": "markdown",
   "id": "5e986c11-c264-46b5-9122-cca73841203d",
   "metadata": {},
   "source": [
    "### **Introduction**"
   ]
  },
  {
   "cell_type": "markdown",
   "id": "177fff02-290a-4eb8-85f7-166d035d1586",
   "metadata": {},
   "source": [
    "This Python project focuses on detecting emotions in text, categorizing them as positive, negative or neutral sentiment. The project leverages machine learning algorithms like NLP to perform sentiment analysis of textual data. Then, the visualization of the data is done to display the results, making it easier to interpret the emotional tone of the data entered. Tkinter GUI is used to create a good looking GUI application of this Python Project. This can be applied to social media monitoring, customer feedback analysis, and more."
   ]
  },
  {
   "cell_type": "markdown",
   "id": "095fe0b2-d84e-40c0-ad5c-8e012b21d57e",
   "metadata": {},
   "source": [
    "### **Languages/Libraries used**"
   ]
  },
  {
   "cell_type": "markdown",
   "id": "87c2f50c-25cd-4437-995c-e1b41a5e0a3d",
   "metadata": {},
   "source": [
    "1. Python\n",
    "2. TextBlob\n",
    "3. TkinterGUI"
   ]
  },
  {
   "cell_type": "markdown",
   "id": "2b9e74f8-0280-4ae0-be3d-c5634929f3bc",
   "metadata": {},
   "source": [
    "## ***Note***"
   ]
  },
  {
   "cell_type": "markdown",
   "id": "46f004f4-b7a3-4d36-b304-9bdb2e9d8ac3",
   "metadata": {},
   "source": [
    "##### **GUI application not present here. The code is in the GitHub repo**"
   ]
  },
  {
   "cell_type": "markdown",
   "id": "1701bbfc-6cdd-4614-85e0-62eeb8e288f2",
   "metadata": {},
   "source": [
    "https://github.com/aaryankalra/emotion-detection-app"
   ]
  },
  {
   "cell_type": "markdown",
   "id": "73c75f02-6025-41b3-b0c3-8fb075fb99eb",
   "metadata": {},
   "source": [
    "## **Project**"
   ]
  },
  {
   "cell_type": "markdown",
   "id": "de6ff0ef-9beb-42b0-a1b0-3422fb52c11e",
   "metadata": {},
   "source": [
    "### Importing libraries"
   ]
  },
  {
   "cell_type": "code",
   "execution_count": 1,
   "id": "17a7837b-d50f-4da7-904e-d505190a4426",
   "metadata": {},
   "outputs": [],
   "source": [
    "import pandas as pd\n",
    "import numpy as np\n",
    "import matplotlib.pyplot as plt\n",
    "import seaborn as sns"
   ]
  },
  {
   "cell_type": "markdown",
   "id": "482dcbe8-7a21-4053-abc3-28746492cae0",
   "metadata": {},
   "source": [
    "### Importing the dataset"
   ]
  },
  {
   "cell_type": "code",
   "execution_count": 5,
   "id": "100ceb72-67c3-4048-82b4-c53f9a7d52f2",
   "metadata": {
    "scrolled": true
   },
   "outputs": [
    {
     "data": {
      "text/html": [
       "<div>\n",
       "<style scoped>\n",
       "    .dataframe tbody tr th:only-of-type {\n",
       "        vertical-align: middle;\n",
       "    }\n",
       "\n",
       "    .dataframe tbody tr th {\n",
       "        vertical-align: top;\n",
       "    }\n",
       "\n",
       "    .dataframe thead th {\n",
       "        text-align: right;\n",
       "    }\n",
       "</style>\n",
       "<table border=\"1\" class=\"dataframe\">\n",
       "  <thead>\n",
       "    <tr style=\"text-align: right;\">\n",
       "      <th></th>\n",
       "      <th>product_name</th>\n",
       "      <th>product_price</th>\n",
       "      <th>Rate</th>\n",
       "      <th>Review</th>\n",
       "      <th>Summary</th>\n",
       "      <th>Sentiment</th>\n",
       "    </tr>\n",
       "  </thead>\n",
       "  <tbody>\n",
       "    <tr>\n",
       "      <th>0</th>\n",
       "      <td>Candes 12 L Room/Personal Air Cooler??????(Whi...</td>\n",
       "      <td>3999</td>\n",
       "      <td>5</td>\n",
       "      <td>super!</td>\n",
       "      <td>great cooler excellent air flow and for this p...</td>\n",
       "      <td>positive</td>\n",
       "    </tr>\n",
       "    <tr>\n",
       "      <th>1</th>\n",
       "      <td>Candes 12 L Room/Personal Air Cooler??????(Whi...</td>\n",
       "      <td>3999</td>\n",
       "      <td>5</td>\n",
       "      <td>awesome</td>\n",
       "      <td>best budget 2 fit cooler nice cooling</td>\n",
       "      <td>positive</td>\n",
       "    </tr>\n",
       "    <tr>\n",
       "      <th>2</th>\n",
       "      <td>Candes 12 L Room/Personal Air Cooler??????(Whi...</td>\n",
       "      <td>3999</td>\n",
       "      <td>3</td>\n",
       "      <td>fair</td>\n",
       "      <td>the quality is good but the power of air is de...</td>\n",
       "      <td>positive</td>\n",
       "    </tr>\n",
       "    <tr>\n",
       "      <th>3</th>\n",
       "      <td>Candes 12 L Room/Personal Air Cooler??????(Whi...</td>\n",
       "      <td>3999</td>\n",
       "      <td>1</td>\n",
       "      <td>useless product</td>\n",
       "      <td>very bad product its a only a fan</td>\n",
       "      <td>negative</td>\n",
       "    </tr>\n",
       "    <tr>\n",
       "      <th>4</th>\n",
       "      <td>Candes 12 L Room/Personal Air Cooler??????(Whi...</td>\n",
       "      <td>3999</td>\n",
       "      <td>3</td>\n",
       "      <td>fair</td>\n",
       "      <td>ok ok product</td>\n",
       "      <td>neutral</td>\n",
       "    </tr>\n",
       "  </tbody>\n",
       "</table>\n",
       "</div>"
      ],
      "text/plain": [
       "                                        product_name product_price Rate  \\\n",
       "0  Candes 12 L Room/Personal Air Cooler??????(Whi...          3999    5   \n",
       "1  Candes 12 L Room/Personal Air Cooler??????(Whi...          3999    5   \n",
       "2  Candes 12 L Room/Personal Air Cooler??????(Whi...          3999    3   \n",
       "3  Candes 12 L Room/Personal Air Cooler??????(Whi...          3999    1   \n",
       "4  Candes 12 L Room/Personal Air Cooler??????(Whi...          3999    3   \n",
       "\n",
       "            Review                                            Summary  \\\n",
       "0           super!  great cooler excellent air flow and for this p...   \n",
       "1          awesome              best budget 2 fit cooler nice cooling   \n",
       "2             fair  the quality is good but the power of air is de...   \n",
       "3  useless product                  very bad product its a only a fan   \n",
       "4             fair                                      ok ok product   \n",
       "\n",
       "  Sentiment  \n",
       "0  positive  \n",
       "1  positive  \n",
       "2  positive  \n",
       "3  negative  \n",
       "4   neutral  "
      ]
     },
     "execution_count": 5,
     "metadata": {},
     "output_type": "execute_result"
    }
   ],
   "source": [
    "data = pd.read_csv('../dataset/dataset.csv')\n",
    "data.head()"
   ]
  },
  {
   "cell_type": "markdown",
   "id": "02b7e4c6-4ea0-473a-afdb-dea0aa89a8b1",
   "metadata": {},
   "source": [
    "### Removing the unecessary coluns from the dataset"
   ]
  },
  {
   "cell_type": "code",
   "execution_count": 6,
   "id": "03ce3960-1527-42a1-8bda-9bcab1d81490",
   "metadata": {},
   "outputs": [
    {
     "data": {
      "text/html": [
       "<div>\n",
       "<style scoped>\n",
       "    .dataframe tbody tr th:only-of-type {\n",
       "        vertical-align: middle;\n",
       "    }\n",
       "\n",
       "    .dataframe tbody tr th {\n",
       "        vertical-align: top;\n",
       "    }\n",
       "\n",
       "    .dataframe thead th {\n",
       "        text-align: right;\n",
       "    }\n",
       "</style>\n",
       "<table border=\"1\" class=\"dataframe\">\n",
       "  <thead>\n",
       "    <tr style=\"text-align: right;\">\n",
       "      <th></th>\n",
       "      <th>Review</th>\n",
       "      <th>Summary</th>\n",
       "      <th>Sentiment</th>\n",
       "    </tr>\n",
       "  </thead>\n",
       "  <tbody>\n",
       "    <tr>\n",
       "      <th>0</th>\n",
       "      <td>super!</td>\n",
       "      <td>great cooler excellent air flow and for this p...</td>\n",
       "      <td>positive</td>\n",
       "    </tr>\n",
       "    <tr>\n",
       "      <th>1</th>\n",
       "      <td>awesome</td>\n",
       "      <td>best budget 2 fit cooler nice cooling</td>\n",
       "      <td>positive</td>\n",
       "    </tr>\n",
       "    <tr>\n",
       "      <th>2</th>\n",
       "      <td>fair</td>\n",
       "      <td>the quality is good but the power of air is de...</td>\n",
       "      <td>positive</td>\n",
       "    </tr>\n",
       "    <tr>\n",
       "      <th>3</th>\n",
       "      <td>useless product</td>\n",
       "      <td>very bad product its a only a fan</td>\n",
       "      <td>negative</td>\n",
       "    </tr>\n",
       "    <tr>\n",
       "      <th>4</th>\n",
       "      <td>fair</td>\n",
       "      <td>ok ok product</td>\n",
       "      <td>neutral</td>\n",
       "    </tr>\n",
       "  </tbody>\n",
       "</table>\n",
       "</div>"
      ],
      "text/plain": [
       "            Review                                            Summary  \\\n",
       "0           super!  great cooler excellent air flow and for this p...   \n",
       "1          awesome              best budget 2 fit cooler nice cooling   \n",
       "2             fair  the quality is good but the power of air is de...   \n",
       "3  useless product                  very bad product its a only a fan   \n",
       "4             fair                                      ok ok product   \n",
       "\n",
       "  Sentiment  \n",
       "0  positive  \n",
       "1  positive  \n",
       "2  positive  \n",
       "3  negative  \n",
       "4   neutral  "
      ]
     },
     "execution_count": 6,
     "metadata": {},
     "output_type": "execute_result"
    }
   ],
   "source": [
    "colrem = ['product_name', 'product_price', 'Rate']\n",
    "data = data.drop(columns=colrem)\n",
    "data.head()"
   ]
  },
  {
   "cell_type": "code",
   "execution_count": 15,
   "id": "6ee8138e-a6e1-4dac-b267-806ffbc362c5",
   "metadata": {},
   "outputs": [
    {
     "data": {
      "text/html": [
       "<div>\n",
       "<style scoped>\n",
       "    .dataframe tbody tr th:only-of-type {\n",
       "        vertical-align: middle;\n",
       "    }\n",
       "\n",
       "    .dataframe tbody tr th {\n",
       "        vertical-align: top;\n",
       "    }\n",
       "\n",
       "    .dataframe thead th {\n",
       "        text-align: right;\n",
       "    }\n",
       "</style>\n",
       "<table border=\"1\" class=\"dataframe\">\n",
       "  <thead>\n",
       "    <tr style=\"text-align: right;\">\n",
       "      <th></th>\n",
       "      <th>Summary</th>\n",
       "      <th>Sentiment</th>\n",
       "    </tr>\n",
       "  </thead>\n",
       "  <tbody>\n",
       "    <tr>\n",
       "      <th>0</th>\n",
       "      <td>great cooler excellent air flow and for this p...</td>\n",
       "      <td>positive</td>\n",
       "    </tr>\n",
       "    <tr>\n",
       "      <th>1</th>\n",
       "      <td>best budget 2 fit cooler nice cooling</td>\n",
       "      <td>positive</td>\n",
       "    </tr>\n",
       "    <tr>\n",
       "      <th>2</th>\n",
       "      <td>the quality is good but the power of air is de...</td>\n",
       "      <td>positive</td>\n",
       "    </tr>\n",
       "    <tr>\n",
       "      <th>3</th>\n",
       "      <td>very bad product its a only a fan</td>\n",
       "      <td>negative</td>\n",
       "    </tr>\n",
       "    <tr>\n",
       "      <th>4</th>\n",
       "      <td>ok ok product</td>\n",
       "      <td>neutral</td>\n",
       "    </tr>\n",
       "  </tbody>\n",
       "</table>\n",
       "</div>"
      ],
      "text/plain": [
       "                                             Summary Sentiment\n",
       "0  great cooler excellent air flow and for this p...  positive\n",
       "1              best budget 2 fit cooler nice cooling  positive\n",
       "2  the quality is good but the power of air is de...  positive\n",
       "3                  very bad product its a only a fan  negative\n",
       "4                                      ok ok product   neutral"
      ]
     },
     "execution_count": 15,
     "metadata": {},
     "output_type": "execute_result"
    }
   ],
   "source": [
    "data = data.drop('Review', axis=1)\n",
    "data.head()"
   ]
  },
  {
   "cell_type": "markdown",
   "id": "e087844e-465f-4fde-8682-5d54d5fd1f98",
   "metadata": {},
   "source": [
    "### Some information about the dataset"
   ]
  },
  {
   "cell_type": "markdown",
   "id": "5326cca2-6227-4d9c-b89c-2df1b168712e",
   "metadata": {},
   "source": [
    "#### basic information"
   ]
  },
  {
   "cell_type": "code",
   "execution_count": 16,
   "id": "82f2ee2f-7ef4-4bfd-a1da-3cd2d1fd1ff3",
   "metadata": {},
   "outputs": [
    {
     "name": "stdout",
     "output_type": "stream",
     "text": [
      "<class 'pandas.core.frame.DataFrame'>\n",
      "RangeIndex: 205052 entries, 0 to 205051\n",
      "Data columns (total 2 columns):\n",
      " #   Column     Non-Null Count   Dtype \n",
      "---  ------     --------------   ----- \n",
      " 0   Summary    205041 non-null  object\n",
      " 1   Sentiment  205052 non-null  object\n",
      "dtypes: object(2)\n",
      "memory usage: 3.1+ MB\n"
     ]
    }
   ],
   "source": [
    "data.info()"
   ]
  },
  {
   "cell_type": "markdown",
   "id": "02842c10-dcfe-49dd-871e-6f3713e2d614",
   "metadata": {},
   "source": [
    "#### total no. of columns and rows"
   ]
  },
  {
   "cell_type": "code",
   "execution_count": 17,
   "id": "0d31cd27-8586-4e55-8eef-ff52efb44c3d",
   "metadata": {},
   "outputs": [
    {
     "data": {
      "text/plain": [
       "(205052, 2)"
      ]
     },
     "execution_count": 17,
     "metadata": {},
     "output_type": "execute_result"
    }
   ],
   "source": [
    "data.shape"
   ]
  },
  {
   "cell_type": "markdown",
   "id": "c80f2c8d-8834-4757-a8fb-5c7907109ba5",
   "metadata": {},
   "source": [
    "#### total counts of positive, negative and neutral values"
   ]
  },
  {
   "cell_type": "code",
   "execution_count": 19,
   "id": "1f17c7e6-d4d4-41f0-ab2e-926465e9f3f1",
   "metadata": {},
   "outputs": [
    {
     "data": {
      "text/plain": [
       "Sentiment\n",
       "positive    166581\n",
       "negative     28232\n",
       "neutral      10239\n",
       "Name: count, dtype: int64"
      ]
     },
     "execution_count": 19,
     "metadata": {},
     "output_type": "execute_result"
    }
   ],
   "source": [
    "data.Sentiment.value_counts()"
   ]
  },
  {
   "cell_type": "markdown",
   "id": "42b07db8-7f72-4529-8008-66e28451eafe",
   "metadata": {},
   "source": [
    "### **Data Preprocessing**"
   ]
  },
  {
   "cell_type": "code",
   "execution_count": 27,
   "id": "7a104000-9dc3-4126-8469-932c46c1c476",
   "metadata": {},
   "outputs": [
    {
     "data": {
      "text/plain": [
       "Summary      11\n",
       "Sentiment     0\n",
       "dtype: int64"
      ]
     },
     "execution_count": 27,
     "metadata": {},
     "output_type": "execute_result"
    }
   ],
   "source": [
    "data.isnull().sum()"
   ]
  },
  {
   "cell_type": "code",
   "execution_count": 28,
   "id": "5b5f58ec-5054-4ade-9df0-98c72ca24801",
   "metadata": {},
   "outputs": [],
   "source": [
    "data.dropna(inplace=True)"
   ]
  },
  {
   "cell_type": "code",
   "execution_count": 29,
   "id": "59cf0c55-9974-4dfb-a7be-61480a2fc716",
   "metadata": {},
   "outputs": [
    {
     "data": {
      "text/plain": [
       "Summary      0\n",
       "Sentiment    0\n",
       "dtype: int64"
      ]
     },
     "execution_count": 29,
     "metadata": {},
     "output_type": "execute_result"
    }
   ],
   "source": [
    "data.isnull().sum()"
   ]
  },
  {
   "cell_type": "code",
   "execution_count": 31,
   "id": "ad37077e-70f2-4c8f-b4e5-e4be4879bd80",
   "metadata": {},
   "outputs": [
    {
     "data": {
      "text/plain": [
       "(205041, 2)"
      ]
     },
     "execution_count": 31,
     "metadata": {},
     "output_type": "execute_result"
    }
   ],
   "source": [
    "data.shape"
   ]
  },
  {
   "cell_type": "markdown",
   "id": "b69eaf0a-8fc0-4299-a8ec-81d79f230fd8",
   "metadata": {},
   "source": [
    "### **Using the TextBlob**"
   ]
  },
  {
   "cell_type": "markdown",
   "id": "f92f9e0a-77cc-4c28-8c83-ee4aab7b8755",
   "metadata": {},
   "source": [
    "### Importing the TextBlob library"
   ]
  },
  {
   "cell_type": "markdown",
   "id": "8d31cfd9-2b7a-445e-8093-215ef4561a55",
   "metadata": {},
   "source": [
    "#### *Before this, install the TextBlob first*"
   ]
  },
  {
   "cell_type": "code",
   "execution_count": 32,
   "id": "7ce342da-e7a1-41f6-99e3-ec7127065a6a",
   "metadata": {},
   "outputs": [],
   "source": [
    "from textblob import TextBlob"
   ]
  },
  {
   "cell_type": "markdown",
   "id": "502c00a7-fa54-41f4-95fa-4cc075931387",
   "metadata": {},
   "source": [
    "### Performing sentiment analysis on each row"
   ]
  },
  {
   "cell_type": "code",
   "execution_count": 36,
   "id": "028d95b3-568a-4fc8-9238-651d17c7a86a",
   "metadata": {},
   "outputs": [
    {
     "name": "stderr",
     "output_type": "stream",
     "text": [
      "C:\\Users\\Aaryan\\AppData\\Local\\Temp\\ipykernel_12324\\1552501753.py:4: FutureWarning: Series.__getitem__ treating keys as positions is deprecated. In a future version, integer keys will always be treated as labels (consistent with DataFrame behavior). To access a value by position, use `ser.iloc[pos]`\n",
      "  text = TextBlob(data.iloc[i][1])\n"
     ]
    }
   ],
   "source": [
    "polarity_score = []\n",
    "\n",
    "for i in range(0, data.shape[0]):\n",
    "    text = TextBlob(data.iloc[i][1])\n",
    "    score = text.sentiment[0]\n",
    "    polarity_score.append(score)"
   ]
  },
  {
   "cell_type": "markdown",
   "id": "ddf780ee-bfa8-42c4-8c80-15b360c6dd3c",
   "metadata": {},
   "source": [
    "### Putting the new sentiment polarity as a new column in the dataset"
   ]
  },
  {
   "cell_type": "code",
   "execution_count": 37,
   "id": "ceb1c33f-6899-4c8c-ad28-2e4d6d0c7b62",
   "metadata": {},
   "outputs": [],
   "source": [
    "data = pd.concat([data, pd.Series(polarity_score)], axis = 1)"
   ]
  },
  {
   "cell_type": "code",
   "execution_count": 38,
   "id": "e37f9ee0-2527-4142-b7a6-8ce1b665a0f8",
   "metadata": {},
   "outputs": [
    {
     "data": {
      "text/html": [
       "<div>\n",
       "<style scoped>\n",
       "    .dataframe tbody tr th:only-of-type {\n",
       "        vertical-align: middle;\n",
       "    }\n",
       "\n",
       "    .dataframe tbody tr th {\n",
       "        vertical-align: top;\n",
       "    }\n",
       "\n",
       "    .dataframe thead th {\n",
       "        text-align: right;\n",
       "    }\n",
       "</style>\n",
       "<table border=\"1\" class=\"dataframe\">\n",
       "  <thead>\n",
       "    <tr style=\"text-align: right;\">\n",
       "      <th></th>\n",
       "      <th>Summary</th>\n",
       "      <th>Sentiment</th>\n",
       "      <th>0</th>\n",
       "    </tr>\n",
       "  </thead>\n",
       "  <tbody>\n",
       "    <tr>\n",
       "      <th>0</th>\n",
       "      <td>great cooler excellent air flow and for this p...</td>\n",
       "      <td>positive</td>\n",
       "      <td>0.227273</td>\n",
       "    </tr>\n",
       "    <tr>\n",
       "      <th>1</th>\n",
       "      <td>best budget 2 fit cooler nice cooling</td>\n",
       "      <td>positive</td>\n",
       "      <td>0.227273</td>\n",
       "    </tr>\n",
       "    <tr>\n",
       "      <th>2</th>\n",
       "      <td>the quality is good but the power of air is de...</td>\n",
       "      <td>positive</td>\n",
       "      <td>0.227273</td>\n",
       "    </tr>\n",
       "    <tr>\n",
       "      <th>3</th>\n",
       "      <td>very bad product its a only a fan</td>\n",
       "      <td>negative</td>\n",
       "      <td>-0.300000</td>\n",
       "    </tr>\n",
       "    <tr>\n",
       "      <th>4</th>\n",
       "      <td>ok ok product</td>\n",
       "      <td>neutral</td>\n",
       "      <td>0.000000</td>\n",
       "    </tr>\n",
       "  </tbody>\n",
       "</table>\n",
       "</div>"
      ],
      "text/plain": [
       "                                             Summary Sentiment         0\n",
       "0  great cooler excellent air flow and for this p...  positive  0.227273\n",
       "1              best budget 2 fit cooler nice cooling  positive  0.227273\n",
       "2  the quality is good but the power of air is de...  positive  0.227273\n",
       "3                  very bad product its a only a fan  negative -0.300000\n",
       "4                                      ok ok product   neutral  0.000000"
      ]
     },
     "execution_count": 38,
     "metadata": {},
     "output_type": "execute_result"
    }
   ],
   "source": [
    "data.head()"
   ]
  },
  {
   "cell_type": "code",
   "execution_count": 42,
   "id": "fe8e6193-38f0-4d18-af85-95ba6aa0fdbc",
   "metadata": {},
   "outputs": [
    {
     "data": {
      "text/html": [
       "<div>\n",
       "<style scoped>\n",
       "    .dataframe tbody tr th:only-of-type {\n",
       "        vertical-align: middle;\n",
       "    }\n",
       "\n",
       "    .dataframe tbody tr th {\n",
       "        vertical-align: top;\n",
       "    }\n",
       "\n",
       "    .dataframe thead th {\n",
       "        text-align: right;\n",
       "    }\n",
       "</style>\n",
       "<table border=\"1\" class=\"dataframe\">\n",
       "  <thead>\n",
       "    <tr style=\"text-align: right;\">\n",
       "      <th></th>\n",
       "      <th>Summary</th>\n",
       "      <th>Sentiment</th>\n",
       "      <th>Polarity</th>\n",
       "    </tr>\n",
       "  </thead>\n",
       "  <tbody>\n",
       "    <tr>\n",
       "      <th>0</th>\n",
       "      <td>great cooler excellent air flow and for this p...</td>\n",
       "      <td>positive</td>\n",
       "      <td>0.227273</td>\n",
       "    </tr>\n",
       "    <tr>\n",
       "      <th>1</th>\n",
       "      <td>best budget 2 fit cooler nice cooling</td>\n",
       "      <td>positive</td>\n",
       "      <td>0.227273</td>\n",
       "    </tr>\n",
       "    <tr>\n",
       "      <th>2</th>\n",
       "      <td>the quality is good but the power of air is de...</td>\n",
       "      <td>positive</td>\n",
       "      <td>0.227273</td>\n",
       "    </tr>\n",
       "    <tr>\n",
       "      <th>3</th>\n",
       "      <td>very bad product its a only a fan</td>\n",
       "      <td>negative</td>\n",
       "      <td>-0.300000</td>\n",
       "    </tr>\n",
       "    <tr>\n",
       "      <th>4</th>\n",
       "      <td>ok ok product</td>\n",
       "      <td>neutral</td>\n",
       "      <td>0.000000</td>\n",
       "    </tr>\n",
       "  </tbody>\n",
       "</table>\n",
       "</div>"
      ],
      "text/plain": [
       "                                             Summary Sentiment  Polarity\n",
       "0  great cooler excellent air flow and for this p...  positive  0.227273\n",
       "1              best budget 2 fit cooler nice cooling  positive  0.227273\n",
       "2  the quality is good but the power of air is de...  positive  0.227273\n",
       "3                  very bad product its a only a fan  negative -0.300000\n",
       "4                                      ok ok product   neutral  0.000000"
      ]
     },
     "execution_count": 42,
     "metadata": {},
     "output_type": "execute_result"
    }
   ],
   "source": [
    "data.rename(columns={data.columns[2] : \"Polarity\"}, inplace = True)\n",
    "data.head()"
   ]
  },
  {
   "cell_type": "markdown",
   "id": "a395da0a-8b3e-4946-99f0-cbc5047c001c",
   "metadata": {},
   "source": [
    "## **Checking the accuracy of the TextBlob**"
   ]
  },
  {
   "cell_type": "markdown",
   "id": "aa19313c-2aac-4ece-a4e0-296f18028fc3",
   "metadata": {},
   "source": [
    "### Checking for positive"
   ]
  },
  {
   "cell_type": "code",
   "execution_count": 45,
   "id": "a1207abd-65ae-45da-88f0-56e59905f92d",
   "metadata": {},
   "outputs": [
    {
     "data": {
      "text/plain": [
       "166575"
      ]
     },
     "execution_count": 45,
     "metadata": {},
     "output_type": "execute_result"
    }
   ],
   "source": [
    "data.Sentiment.value_counts()['positive']"
   ]
  },
  {
   "cell_type": "code",
   "execution_count": 46,
   "id": "e60544cb-71af-49c3-87b4-744adec2449e",
   "metadata": {},
   "outputs": [
    {
     "data": {
      "text/plain": [
       "166575"
      ]
     },
     "execution_count": 46,
     "metadata": {},
     "output_type": "execute_result"
    }
   ],
   "source": [
    "len(data[data.Polarity > 0])"
   ]
  },
  {
   "cell_type": "markdown",
   "id": "43eda04e-0b2e-4182-9312-9663d477430e",
   "metadata": {},
   "source": [
    "##### As the no. of positive data is same, the TextBlob has correctly predicted the sentiment"
   ]
  },
  {
   "cell_type": "markdown",
   "id": "664f6270-4237-4ef5-9ceb-9248db192d17",
   "metadata": {},
   "source": [
    "### Checking for negative"
   ]
  },
  {
   "cell_type": "code",
   "execution_count": 47,
   "id": "c65c9704-a2c2-4378-846b-eda5de339cba",
   "metadata": {},
   "outputs": [
    {
     "data": {
      "text/plain": [
       "28232"
      ]
     },
     "execution_count": 47,
     "metadata": {},
     "output_type": "execute_result"
    }
   ],
   "source": [
    "data.Sentiment.value_counts()['negative']"
   ]
  },
  {
   "cell_type": "code",
   "execution_count": 48,
   "id": "9960e332-fd1e-49fc-9c2b-dcf864bccdb7",
   "metadata": {},
   "outputs": [
    {
     "data": {
      "text/plain": [
       "28232"
      ]
     },
     "execution_count": 48,
     "metadata": {},
     "output_type": "execute_result"
    }
   ],
   "source": [
    "len(data[data.Polarity < 0])"
   ]
  },
  {
   "cell_type": "markdown",
   "id": "b28ac14c-bc0d-4ca8-a391-4c718fffc764",
   "metadata": {},
   "source": [
    "##### As the no. of negative data is same, the TextBlob has correctly predicted the sentiment"
   ]
  },
  {
   "cell_type": "markdown",
   "id": "8bdeb9ca-4ce4-438e-adeb-8dd3603d8de8",
   "metadata": {},
   "source": [
    "### Checking for neutral"
   ]
  },
  {
   "cell_type": "code",
   "execution_count": 49,
   "id": "cf777fab-fa7e-4e3f-b283-63a2f0bff566",
   "metadata": {},
   "outputs": [
    {
     "data": {
      "text/plain": [
       "10234"
      ]
     },
     "execution_count": 49,
     "metadata": {},
     "output_type": "execute_result"
    }
   ],
   "source": [
    "data.Sentiment.value_counts()['neutral']"
   ]
  },
  {
   "cell_type": "code",
   "execution_count": 51,
   "id": "2973fe35-9397-4709-bebd-bc6c14b76eff",
   "metadata": {},
   "outputs": [
    {
     "data": {
      "text/plain": [
       "10234"
      ]
     },
     "execution_count": 51,
     "metadata": {},
     "output_type": "execute_result"
    }
   ],
   "source": [
    "len(data[data.Polarity == 0])"
   ]
  },
  {
   "cell_type": "markdown",
   "id": "d612a08f-42fd-4fe7-90dc-b2bcb4fc307f",
   "metadata": {},
   "source": [
    "##### As the no. of neutral data is same, the TextBlob has correctly predicted the sentiment"
   ]
  },
  {
   "cell_type": "markdown",
   "id": "43320302-d08f-4407-a1f3-f1996df3c25b",
   "metadata": {},
   "source": [
    "## **Visualizations**"
   ]
  },
  {
   "cell_type": "markdown",
   "id": "a5e37284-9a5e-4c91-941d-1bb2dcb39737",
   "metadata": {},
   "source": [
    "#### **Count Plot for positive, negative and neutral values**"
   ]
  },
  {
   "cell_type": "code",
   "execution_count": 114,
   "id": "e6da51f2-beb1-42c1-aad5-56c0b1be6379",
   "metadata": {},
   "outputs": [
    {
     "name": "stderr",
     "output_type": "stream",
     "text": [
      "C:\\Users\\Aaryan\\AppData\\Local\\Temp\\ipykernel_12324\\2130597399.py:3: FutureWarning: \n",
      "\n",
      "Passing `palette` without assigning `hue` is deprecated and will be removed in v0.14.0. Assign the `x` variable to `hue` and set `legend=False` for the same effect.\n",
      "\n",
      "  sns.countplot(x='Sentiment', data=data, palette=colors, edgecolor='black')\n",
      "C:\\Users\\Aaryan\\AppData\\Local\\Temp\\ipykernel_12324\\2130597399.py:3: UserWarning: The palette list has more values (10) than needed (3), which may not be intended.\n",
      "  sns.countplot(x='Sentiment', data=data, palette=colors, edgecolor='black')\n"
     ]
    },
    {
     "data": {
      "image/png": "[encoded data removed]",
      "text/plain": [
       "<Figure size 800x600 with 1 Axes>"
      ]
     },
     "metadata": {},
     "output_type": "display_data"
    }
   ],
   "source": [
    "colors = sns.color_palette(\"bright\")\n",
    "plt.figure(figsize=(8, 6))\n",
    "sns.countplot(x='Sentiment', data=data, palette=colors, edgecolor='black')\n",
    "plt.title('Count of Positive, Negative, and Neutral Reviews')\n",
    "plt.xlabel('Sentiment')\n",
    "plt.ylabel('Count')\n",
    "plt.show()"
   ]
  },
  {
   "cell_type": "markdown",
   "id": "12b7a3a8-c3bd-4c76-8a30-785ce6932175",
   "metadata": {},
   "source": [
    "#### **Pie Chart for positive, negative and neutral values**"
   ]
  },
  {
   "cell_type": "code",
   "execution_count": 118,
   "id": "08c31f94-cb3f-4c75-82f1-70ffc3cfddea",
   "metadata": {},
   "outputs": [
    {
     "data": {
      "image/png": "[encoded data removed]",
      "text/plain": [
       "<Figure size 800x600 with 1 Axes>"
      ]
     },
     "metadata": {},
     "output_type": "display_data"
    }
   ],
   "source": [
    "sentiment_counts = data['Sentiment'].value_counts()\n",
    "colors = ['#ff9999', '#66b3ff', '#99ff99']\n",
    "plt.figure(figsize=(8, 6))\n",
    "plt.pie(sentiment_counts, labels=sentiment_counts.index, autopct='%1.1f%%', startangle=140, colors=colors, wedgeprops={'edgecolor': 'black'})\n",
    "plt.title('Distribution of Positive, Negative, and Neutral Reviews')\n",
    "plt.axis('equal')\n",
    "plt.show()"
   ]
  },
  {
   "cell_type": "markdown",
   "id": "7a4e5ca8-0257-4802-a5f0-8a25eb40a656",
   "metadata": {},
   "source": [
    "### **WordClouds**"
   ]
  },
  {
   "cell_type": "code",
   "execution_count": 121,
   "id": "0eadcae8-5c84-4d82-ae17-efb133c7eb73",
   "metadata": {},
   "outputs": [
    {
     "data": {
      "text/plain": [
       "wordcloud.wordcloud.WordCloud"
      ]
     },
     "execution_count": 121,
     "metadata": {},
     "output_type": "execute_result"
    }
   ],
   "source": [
    "from wordcloud import WordCloud\n",
    "WordCloud"
   ]
  },
  {
   "cell_type": "code",
   "execution_count": 127,
   "id": "1f9ad6ae-b463-4e93-aad4-fdfb81560f38",
   "metadata": {},
   "outputs": [],
   "source": [
    "positive_reviews = ' '.join(data[data['Sentiment'] == 'positive']['Summary'])\n",
    "negative_reviews = ' '.join(data[data['Sentiment'] == 'negative']['Summary'])\n",
    "neutral_reviews = ' '.join(data[data['Sentiment'] == 'neutral']['Summary'])"
   ]
  },
  {
   "cell_type": "code",
   "execution_count": 139,
   "id": "d00e8ff8-b6ae-4bf3-8dd3-8527cddb7e19",
   "metadata": {},
   "outputs": [],
   "source": [
    "wordcloud_positive = WordCloud(width=2400, height=1500, background_color='white').generate(positive_reviews)\n",
    "wordcloud_negative = WordCloud(width=800, height=400, background_color='white').generate(negative_reviews)\n",
    "wordcloud_neutral = WordCloud(width=800, height=400, background_color='white').generate(neutral_reviews)"
   ]
  },
  {
   "cell_type": "code",
   "execution_count": 140,
   "id": "5e20892c-4f3d-4efb-9e51-f46ad6e5f155",
   "metadata": {},
   "outputs": [
    {
     "data": {
      "text/plain": [
       "<Figure size 2400x1000 with 0 Axes>"
      ]
     },
     "execution_count": 140,
     "metadata": {},
     "output_type": "execute_result"
    },
    {
     "data": {
      "text/plain": [
       "<Figure size 2400x1000 with 0 Axes>"
      ]
     },
     "metadata": {},
     "output_type": "display_data"
    }
   ],
   "source": [
    "plt.figure(figsize=(24, 10))"
   ]
  },
  {
   "cell_type": "markdown",
   "id": "0b199f5c-c15a-411f-9ed7-64277ee6a4a6",
   "metadata": {},
   "source": [
    "#### **WordCloud for positive reviews**"
   ]
  },
  {
   "cell_type": "code",
   "execution_count": 141,
   "id": "055f53b9-34a7-43bd-9c01-c5cce329ee98",
   "metadata": {},
   "outputs": [
    {
     "data": {
      "text/plain": [
       "(-0.5, 2399.5, 1499.5, -0.5)"
      ]
     },
     "execution_count": 141,
     "metadata": {},
     "output_type": "execute_result"
    },
    {
     "data": {
      "image/png": "[encoded data removed]",
      "text/plain": [
       "<Figure size 640x480 with 1 Axes>"
      ]
     },
     "metadata": {},
     "output_type": "display_data"
    }
   ],
   "source": [
    "plt.subplot(1, 3, 1)\n",
    "plt.imshow(wordcloud_positive, interpolation='bilinear')\n",
    "plt.title('Positive Reviews')\n",
    "plt.axis('off')"
   ]
  },
  {
   "cell_type": "markdown",
   "id": "131a8aba-6bda-47bf-b13c-0ed41b3f3b9a",
   "metadata": {},
   "source": [
    "#### **WordCloud for negative reviews**"
   ]
  },
  {
   "cell_type": "code",
   "execution_count": 142,
   "id": "ace1dc34-0f24-4c35-b995-4368ae90868f",
   "metadata": {},
   "outputs": [
    {
     "data": {
      "text/plain": [
       "(-0.5, 799.5, 399.5, -0.5)"
      ]
     },
     "execution_count": 142,
     "metadata": {},
     "output_type": "execute_result"
    },
    {
     "data": {
      "image/png": "[encoded data removed]",
      "text/plain": [
       "<Figure size 640x480 with 1 Axes>"
      ]
     },
     "metadata": {},
     "output_type": "display_data"
    }
   ],
   "source": [
    "plt.subplot(1, 3, 2)\n",
    "plt.imshow(wordcloud_negative, interpolation='bilinear')\n",
    "plt.title('Negative Reviews')\n",
    "plt.axis('off')"
   ]
  },
  {
   "cell_type": "markdown",
   "id": "076a8ab9-faee-49aa-80db-de8f6e16060c",
   "metadata": {},
   "source": [
    "#### **WordCloud for neutral reviews**"
   ]
  },
  {
   "cell_type": "code",
   "execution_count": 143,
   "id": "7137f881-cf07-4278-ae6b-f5dc7ac08d42",
   "metadata": {},
   "outputs": [
    {
     "data": {
      "text/plain": [
       "(-0.5, 799.5, 399.5, -0.5)"
      ]
     },
     "execution_count": 143,
     "metadata": {},
     "output_type": "execute_result"
    },
    {
     "data": {
      "image/png": "[encoded data removed]",
      "text/plain": [
       "<Figure size 640x480 with 1 Axes>"
      ]
     },
     "metadata": {},
     "output_type": "display_data"
    }
   ],
   "source": [
    "plt.subplot(1, 3, 3)\n",
    "plt.imshow(wordcloud_neutral, interpolation='bilinear')\n",
    "plt.title('Neutral Reviews')\n",
    "plt.axis('off')"
   ]
  }
 ],
 "metadata": {
  "kernelspec": {
   "display_name": "Python 3 (ipykernel)",
   "language": "python",
   "name": "python3"
  },
  "language_info": {
   "codemirror_mode": {
    "name": "ipython",
    "version": 3
   },
   "file_extension": ".py",
   "mimetype": "text/x-python",
   "name": "python",
   "nbconvert_exporter": "python",
   "pygments_lexer": "ipython3",
   "version": "3.12.2"
  }
 },
 "nbformat": 4,
 "nbformat_minor": 5
}
